{
  "metadata": {
    "colab": {
      "provenance": [],
      "gpuType": "T4"
    },
    "kernelspec": {
      "name": "python3",
      "display_name": "Python 3"
    },
    "language_info": {
      "name": "python",
      "version": "3.10.13",
      "mimetype": "text/x-python",
      "codemirror_mode": {
        "name": "ipython",
        "version": 3
      },
      "pygments_lexer": "ipython3",
      "nbconvert_exporter": "python",
      "file_extension": ".py"
    },
    "kaggle": {
      "accelerator": "nvidiaTeslaT4",
      "dataSources": [],
      "dockerImageVersionId": 30733,
      "isInternetEnabled": true,
      "language": "python",
      "sourceType": "notebook",
      "isGpuEnabled": true
    },
    "accelerator": "GPU"
  },
  "nbformat_minor": 0,
  "nbformat": 4,
  "cells": [
    {
      "cell_type": "markdown",
      "source": [
        "# Install & Upgrade Library"
      ],
      "metadata": {
        "id": "BE1Gt7OfBiM4"
      }
    },
    {
      "cell_type": "code",
      "source": [
        "pip install gdown"
      ],
      "metadata": {
        "execution": {
          "iopub.status.busy": "2024-06-09T06:53:21.771923Z",
          "iopub.execute_input": "2024-06-09T06:53:21.772341Z",
          "iopub.status.idle": "2024-06-09T06:53:37.933870Z",
          "shell.execute_reply.started": "2024-06-09T06:53:21.772308Z",
          "shell.execute_reply": "2024-06-09T06:53:37.932722Z"
        },
        "trusted": true,
        "colab": {
          "base_uri": "https://localhost:8080/"
        },
        "id": "tJktMi0ON1Pd",
        "outputId": "91e077c1-8b74-43ec-eb4b-e92e52fd74e8"
      },
      "execution_count": null,
      "outputs": [
        {
          "output_type": "stream",
          "name": "stdout",
          "text": [
            "Requirement already satisfied: gdown in /usr/local/lib/python3.10/dist-packages (5.1.0)\n",
            "Requirement already satisfied: beautifulsoup4 in /usr/local/lib/python3.10/dist-packages (from gdown) (4.12.3)\n",
            "Requirement already satisfied: filelock in /usr/local/lib/python3.10/dist-packages (from gdown) (3.14.0)\n",
            "Requirement already satisfied: requests[socks] in /usr/local/lib/python3.10/dist-packages (from gdown) (2.31.0)\n",
            "Requirement already satisfied: tqdm in /usr/local/lib/python3.10/dist-packages (from gdown) (4.66.4)\n",
            "Requirement already satisfied: soupsieve>1.2 in /usr/local/lib/python3.10/dist-packages (from beautifulsoup4->gdown) (2.5)\n",
            "Requirement already satisfied: charset-normalizer<4,>=2 in /usr/local/lib/python3.10/dist-packages (from requests[socks]->gdown) (3.3.2)\n",
            "Requirement already satisfied: idna<4,>=2.5 in /usr/local/lib/python3.10/dist-packages (from requests[socks]->gdown) (3.7)\n",
            "Requirement already satisfied: urllib3<3,>=1.21.1 in /usr/local/lib/python3.10/dist-packages (from requests[socks]->gdown) (2.0.7)\n",
            "Requirement already satisfied: certifi>=2017.4.17 in /usr/local/lib/python3.10/dist-packages (from requests[socks]->gdown) (2024.6.2)\n",
            "Requirement already satisfied: PySocks!=1.5.7,>=1.5.6 in /usr/local/lib/python3.10/dist-packages (from requests[socks]->gdown) (1.7.1)\n"
          ]
        }
      ]
    },
    {
      "cell_type": "code",
      "source": [
        "# import tensorflow as tf\n",
        "\n",
        "# print(\"TensorFlow version:\", tf.__version__)\n",
        "# print(\"Keras version:\", tf.keras.__version__)"
      ],
      "metadata": {
        "id": "27hE42psZqJo"
      },
      "execution_count": null,
      "outputs": []
    },
    {
      "cell_type": "markdown",
      "source": [
        "# Import Libary"
      ],
      "metadata": {
        "id": "H8oUUzJZTd8Q"
      }
    },
    {
      "cell_type": "code",
      "source": [
        "import numpy as np\n",
        "import gdown\n",
        "import os\n",
        "import shutil\n",
        "import seaborn as sns\n",
        "import zipfile\n",
        "import matplotlib.pyplot as plt\n",
        "from PIL import Image\n",
        "\n",
        "from sklearn.model_selection import train_test_split\n",
        "from sklearn.metrics import confusion_matrix, f1_score, precision_score, recall_score\n",
        "\n",
        "import tensorflow as tf\n",
        "from tensorflow.keras.callbacks import EarlyStopping\n",
        "from tensorflow.keras.layers import Input, Dense, Conv2D, MaxPooling2D, Flatten, Dropout,GlobalAveragePooling2D\n",
        "from tensorflow.keras.models import Model, Sequential, load_model\n",
        "from tensorflow.keras.preprocessing.image import ImageDataGenerator\n",
        "from tensorflow.keras.callbacks import Callback, ReduceLROnPlateau\n",
        "from tensorflow.keras.optimizers import Adam\n",
        "\n",
        "from tensorflow.keras.applications import MobileNetV3Small"
      ],
      "metadata": {
        "id": "e_2PtuFbiEsL",
        "execution": {
          "iopub.status.busy": "2024-06-09T06:53:37.937777Z",
          "iopub.execute_input": "2024-06-09T06:53:37.938129Z",
          "iopub.status.idle": "2024-06-09T06:53:58.684341Z",
          "shell.execute_reply.started": "2024-06-09T06:53:37.938093Z",
          "shell.execute_reply": "2024-06-09T06:53:58.683398Z"
        },
        "trusted": true
      },
      "execution_count": null,
      "outputs": []
    },
    {
      "cell_type": "markdown",
      "source": [
        "# Download dataset"
      ],
      "metadata": {
        "id": "066rWDrlBlr6"
      }
    },
    {
      "cell_type": "code",
      "source": [
        "file_id = \"1DmxyThqOg4QBYCY_d1FglBtYZyniGdos\"\n",
        "\n",
        "# URL berbagi dari Google Drive\n",
        "url = 'https://drive.google.com/uc?id=' + file_id\n",
        "\n",
        "# Path untuk menyimpan file yang diunduh\n",
        "output = 'dataset.zip'\n",
        "\n",
        "# Mengunduh file\n",
        "gdown.download(url, output, quiet=False)\n",
        "\n",
        "# Mengekstrak file zip jika diperlukan\n",
        "import zipfile\n",
        "\n",
        "with zipfile.ZipFile(output, 'r') as zip_ref:\n",
        "    zip_ref.extractall('datasets/')"
      ],
      "metadata": {
        "colab": {
          "base_uri": "https://localhost:8080/"
        },
        "id": "gobl414ekjz8",
        "outputId": "98530f5a-c83f-453b-85e6-55503c5e1e89",
        "execution": {
          "iopub.status.busy": "2024-06-09T06:53:58.685621Z",
          "iopub.execute_input": "2024-06-09T06:53:58.686403Z",
          "iopub.status.idle": "2024-06-09T06:54:13.791492Z",
          "shell.execute_reply.started": "2024-06-09T06:53:58.686366Z",
          "shell.execute_reply": "2024-06-09T06:54:13.790606Z"
        },
        "trusted": true
      },
      "execution_count": null,
      "outputs": [
        {
          "output_type": "stream",
          "name": "stderr",
          "text": [
            "Downloading...\n",
            "From (original): https://drive.google.com/uc?id=1DmxyThqOg4QBYCY_d1FglBtYZyniGdos\n",
            "From (redirected): https://drive.google.com/uc?id=1DmxyThqOg4QBYCY_d1FglBtYZyniGdos&confirm=t&uuid=717146cd-e82a-4f21-8950-562fca438abb\n",
            "To: /content/dataset.zip\n",
            "100%|██████████| 658M/658M [00:07<00:00, 91.8MB/s]\n"
          ]
        }
      ]
    },
    {
      "cell_type": "markdown",
      "source": [
        "# Preprocessing"
      ],
      "metadata": {
        "id": "dlZl76MQ-V_7"
      }
    },
    {
      "cell_type": "markdown",
      "source": [
        "## Load and Clean Dataset"
      ],
      "metadata": {
        "id": "mDD5bqhi9hfA"
      }
    },
    {
      "cell_type": "code",
      "source": [
        "def check_and_remove_invalid_images(root_dir):\n",
        "    invalid_files = []\n",
        "    for subdir, dirs, files in os.walk(root_dir):\n",
        "        for file in files:\n",
        "            file_path = os.path.join(subdir, file)\n",
        "            try:\n",
        "                with Image.open(file_path) as img:\n",
        "                    img.verify()  # Attempt to open and verify the image\n",
        "            except Exception as e:\n",
        "                print(f\"Error processing image: {file_path} - {e}\")\n",
        "                invalid_files.append(file_path)\n",
        "    # Remove invalid files\n",
        "    for invalid_file in invalid_files:\n",
        "        os.remove(invalid_file)\n",
        "        print(f\"Invalid image removed: {invalid_file}\")"
      ],
      "metadata": {
        "id": "WB3o5rJJ9f80",
        "execution": {
          "iopub.status.busy": "2024-06-09T06:54:13.794257Z",
          "iopub.execute_input": "2024-06-09T06:54:13.794917Z",
          "iopub.status.idle": "2024-06-09T06:54:13.801788Z",
          "shell.execute_reply.started": "2024-06-09T06:54:13.794881Z",
          "shell.execute_reply": "2024-06-09T06:54:13.800800Z"
        },
        "trusted": true
      },
      "execution_count": null,
      "outputs": []
    },
    {
      "cell_type": "code",
      "source": [
        "def get_file_paths_and_labels(root_dir):\n",
        "    # Check and remove invalid images before collecting file paths and labels\n",
        "    check_and_remove_invalid_images(root_dir)\n",
        "\n",
        "    file_paths = []\n",
        "    labels = []\n",
        "    for subdir, dirs, files in os.walk(root_dir):\n",
        "        for file in files:\n",
        "            file_path = os.path.join(subdir, file)\n",
        "            label = os.path.basename(subdir)\n",
        "            file_paths.append(file_path)\n",
        "            labels.append(label)\n",
        "    return file_paths, labels"
      ],
      "metadata": {
        "id": "jxCMyqc_mOlX",
        "execution": {
          "iopub.status.busy": "2024-06-09T06:54:13.803196Z",
          "iopub.execute_input": "2024-06-09T06:54:13.803692Z",
          "iopub.status.idle": "2024-06-09T06:54:13.811835Z",
          "shell.execute_reply.started": "2024-06-09T06:54:13.803657Z",
          "shell.execute_reply": "2024-06-09T06:54:13.811059Z"
        },
        "trusted": true
      },
      "execution_count": null,
      "outputs": []
    },
    {
      "cell_type": "code",
      "source": [
        "# Direktori asal, train, dan validation\n",
        "kaggle_prefix_dir = '/kaggle/working/'\n",
        "colab_prefix_dir = '/content/'\n",
        "prefix_dir = colab_prefix_dir\n",
        "\n",
        "root_dir = prefix_dir + 'datasets/'\n",
        "train_dir = prefix_dir + 'final-datasets/train'\n",
        "val_dir = prefix_dir + 'final-datasets/valid'\n",
        "\n",
        "# Membuat direktori train dan validation jika belum ada\n",
        "os.makedirs(train_dir, exist_ok=True)\n",
        "os.makedirs(val_dir, exist_ok=True)\n",
        "\n",
        "# Mendapatkan semua jalur file dan labelnya\n",
        "file_paths, labels = get_file_paths_and_labels(root_dir)"
      ],
      "metadata": {
        "id": "7_y3IZjSmREC",
        "execution": {
          "iopub.status.busy": "2024-06-09T06:54:13.815217Z",
          "iopub.execute_input": "2024-06-09T06:54:13.815519Z",
          "iopub.status.idle": "2024-06-09T06:54:15.001791Z",
          "shell.execute_reply.started": "2024-06-09T06:54:13.815494Z",
          "shell.execute_reply": "2024-06-09T06:54:15.000707Z"
        },
        "trusted": true
      },
      "execution_count": null,
      "outputs": []
    },
    {
      "cell_type": "markdown",
      "source": [
        "## Split Dataset"
      ],
      "metadata": {
        "id": "xcaT8pQV92s5"
      }
    },
    {
      "cell_type": "code",
      "source": [
        "def split_and_move_files(file_paths, labels, train_dir, val_dir, test_size=0.2):\n",
        "    X_train, X_val, y_train, y_val = train_test_split(file_paths, labels, test_size=test_size, stratify=labels, random_state=234)\n",
        "\n",
        "    for file_path, label in zip(X_train, y_train):\n",
        "        label_dir = os.path.join(train_dir, label)\n",
        "        os.makedirs(label_dir, exist_ok=True)\n",
        "        shutil.copy(file_path, label_dir)\n",
        "\n",
        "    for file_path, label in zip(X_val, y_val):\n",
        "        label_dir = os.path.join(val_dir, label)\n",
        "        os.makedirs(label_dir, exist_ok=True)\n",
        "        shutil.copy(file_path, label_dir)"
      ],
      "metadata": {
        "id": "U3bL_r-x-Cqj",
        "execution": {
          "iopub.status.busy": "2024-06-09T06:54:15.003218Z",
          "iopub.execute_input": "2024-06-09T06:54:15.003631Z",
          "iopub.status.idle": "2024-06-09T06:54:15.011090Z",
          "shell.execute_reply.started": "2024-06-09T06:54:15.003593Z",
          "shell.execute_reply": "2024-06-09T06:54:15.009975Z"
        },
        "trusted": true
      },
      "execution_count": null,
      "outputs": []
    },
    {
      "cell_type": "code",
      "source": [
        "# Membagi dan memindahkan file ke direktori train dan validation\n",
        "split_and_move_files(\n",
        "    file_paths,\n",
        "    labels,\n",
        "    train_dir,\n",
        "    val_dir,\n",
        "    test_size=0.2\n",
        "    )"
      ],
      "metadata": {
        "id": "q7_nRT5v9-Hj",
        "execution": {
          "iopub.status.busy": "2024-06-09T06:54:15.012371Z",
          "iopub.execute_input": "2024-06-09T06:54:15.012662Z",
          "iopub.status.idle": "2024-06-09T06:54:17.941540Z",
          "shell.execute_reply.started": "2024-06-09T06:54:15.012631Z",
          "shell.execute_reply": "2024-06-09T06:54:17.940619Z"
        },
        "trusted": true
      },
      "execution_count": null,
      "outputs": []
    },
    {
      "cell_type": "markdown",
      "source": [
        "## Data Generator and Augmentation"
      ],
      "metadata": {
        "id": "4zXAtkvf9EXy"
      }
    },
    {
      "cell_type": "code",
      "source": [
        "# ImageDataGenerator untuk training dan validation\n",
        "train_datagen = ImageDataGenerator(\n",
        "\t  rotation_range=40,\n",
        "      width_shift_range=0.2,\n",
        "      height_shift_range=0.2,\n",
        "      shear_range=0.2,\n",
        "      zoom_range=0.2,\n",
        "      horizontal_flip=True,\n",
        "      fill_mode='nearest')\n",
        "val_datagen = ImageDataGenerator(\n",
        ")\n",
        "\n",
        "# Membuat generator untuk training dan validation\n",
        "train_generator = train_datagen.flow_from_directory(\n",
        "    train_dir,\n",
        "    target_size=(224, 224),\n",
        "    batch_size=32,\n",
        "    class_mode='categorical'\n",
        ")\n",
        "\n",
        "validation_generator = val_datagen.flow_from_directory(\n",
        "    val_dir,\n",
        "    target_size=(224, 224),\n",
        "    batch_size=32,\n",
        "    class_mode='categorical'\n",
        ")"
      ],
      "metadata": {
        "colab": {
          "base_uri": "https://localhost:8080/"
        },
        "id": "_4QTDVnw803t",
        "outputId": "ed580620-e41f-4333-9ccd-1bc523f287cb",
        "execution": {
          "iopub.status.busy": "2024-06-09T06:54:17.942853Z",
          "iopub.execute_input": "2024-06-09T06:54:17.943230Z",
          "iopub.status.idle": "2024-06-09T06:54:18.207807Z",
          "shell.execute_reply.started": "2024-06-09T06:54:17.943196Z",
          "shell.execute_reply": "2024-06-09T06:54:18.206921Z"
        },
        "trusted": true
      },
      "execution_count": null,
      "outputs": [
        {
          "output_type": "stream",
          "name": "stdout",
          "text": [
            "Found 5124 images belonging to 31 classes.\n",
            "Found 1282 images belonging to 31 classes.\n"
          ]
        }
      ]
    },
    {
      "cell_type": "markdown",
      "source": [
        "# Modeling"
      ],
      "metadata": {
        "id": "4jZDbRE9Bsx2"
      }
    },
    {
      "cell_type": "code",
      "source": [
        "def plot_history(history):\n",
        "    # Menyimpan history\n",
        "    loss = history.history['loss']\n",
        "    val_loss = history.history['val_loss']\n",
        "    accuracy = history.history['accuracy']\n",
        "    val_accuracy = history.history['val_accuracy']\n",
        "    epochs = range(1, len(loss) + 1)\n",
        "\n",
        "    # Plotting loss\n",
        "    plt.figure(figsize=(12, 5))\n",
        "\n",
        "    # Plotting Training and Validation Loss\n",
        "    plt.subplot(1, 2, 1)\n",
        "    plt.plot(epochs, loss, 'b', label='Training loss')\n",
        "    plt.plot(epochs, val_loss, 'r', label='Validation loss')\n",
        "    plt.title('Training and Validation Loss')\n",
        "    plt.xlabel('Epochs')\n",
        "    plt.ylabel('Loss')\n",
        "    plt.legend()\n",
        "\n",
        "    plt.subplot(1, 2, 2)\n",
        "    plt.plot(epochs, accuracy, 'b', label='Training Accuracy')\n",
        "    plt.plot(epochs, val_accuracy, 'r', label='Validation Accuracy')\n",
        "    plt.title('Training and Validation Accuracy')\n",
        "    plt.xlabel('Epochs')\n",
        "    plt.ylabel('Accuracy')\n",
        "    plt.legend()\n",
        "\n",
        "\n",
        "    plt.tight_layout()\n",
        "    plt.show()"
      ],
      "metadata": {
        "id": "Z1t8NgLk43-u",
        "execution": {
          "iopub.status.busy": "2024-06-09T06:54:18.210797Z",
          "iopub.execute_input": "2024-06-09T06:54:18.211145Z",
          "iopub.status.idle": "2024-06-09T06:54:18.220101Z",
          "shell.execute_reply.started": "2024-06-09T06:54:18.211116Z",
          "shell.execute_reply": "2024-06-09T06:54:18.219095Z"
        },
        "trusted": true
      },
      "execution_count": null,
      "outputs": []
    },
    {
      "cell_type": "code",
      "source": [
        "early_stopping = EarlyStopping(\n",
        "    monitor='val_loss',  # Memonitor akurasi validasi\n",
        "    patience=5,              # Berhenti jika tidak ada perbaikan setelah 5 epoch\n",
        "    verbose=1,               # Menampilkan informasi ketika berhenti\n",
        "    restore_best_weights=True # Mengembalikan bobot terbaik\n",
        ")\n",
        "\n",
        "reduce_lr = ReduceLROnPlateau(\n",
        "    monitor='val_loss',\n",
        "    factor=0.5,\n",
        "    patience=3,\n",
        "    min_lr=3e-7\n",
        ")"
      ],
      "metadata": {
        "id": "--6xo9JWKiiL",
        "execution": {
          "iopub.status.busy": "2024-06-09T07:38:59.085135Z",
          "iopub.execute_input": "2024-06-09T07:38:59.085842Z",
          "iopub.status.idle": "2024-06-09T07:38:59.090740Z",
          "shell.execute_reply.started": "2024-06-09T07:38:59.085810Z",
          "shell.execute_reply": "2024-06-09T07:38:59.089768Z"
        },
        "trusted": true
      },
      "execution_count": null,
      "outputs": []
    },
    {
      "cell_type": "code",
      "source": [
        "mobilenet_v3_small_model = MobileNetV3Small(weights=\"imagenet\", include_top=False, input_shape=(224, 224, 3))\n",
        "mobilenet_v3_small_model.trainable= False"
      ],
      "metadata": {
        "id": "W2xbC8ATUftE",
        "execution": {
          "iopub.status.busy": "2024-06-09T07:39:07.013594Z",
          "iopub.execute_input": "2024-06-09T07:39:07.014723Z",
          "iopub.status.idle": "2024-06-09T07:39:07.764233Z",
          "shell.execute_reply.started": "2024-06-09T07:39:07.014687Z",
          "shell.execute_reply": "2024-06-09T07:39:07.763342Z"
        },
        "trusted": true,
        "colab": {
          "base_uri": "https://localhost:8080/"
        },
        "outputId": "9b8af6b6-4070-443d-e2f0-d0f0e4cf8a6f"
      },
      "execution_count": null,
      "outputs": [
        {
          "output_type": "stream",
          "name": "stdout",
          "text": [
            "Downloading data from https://storage.googleapis.com/tensorflow/keras-applications/mobilenet_v3/weights_mobilenet_v3_small_224_1.0_float_no_top_v2.h5\n",
            "4334752/4334752 [==============================] - 1s 0us/step\n"
          ]
        }
      ]
    },
    {
      "cell_type": "code",
      "source": [
        "# model = Sequential([\n",
        "#     mobilenet_v3_small_model,\n",
        "#     GlobalAveragePooling2D(),\n",
        "#     Dropout(0.2),\n",
        "#     Dense(512, activation='relu'),\n",
        "#     Dropout(0.2),\n",
        "#     Dense(256, activation='relu'),\n",
        "#     Dense(64, activation='relu'),\n",
        "#     Dense(31, activation='softmax')\n",
        "# ])\n",
        "\n",
        "# optimizer = Adam(learning_rate=3e-5)\n",
        "# model.compile(optimizer=optimizer, loss='categorical_crossentropy', metrics=['accuracy'])"
      ],
      "metadata": {
        "id": "Znr9JSV9LXdh",
        "execution": {
          "iopub.status.busy": "2024-06-09T06:54:20.487170Z",
          "iopub.execute_input": "2024-06-09T06:54:20.487526Z",
          "iopub.status.idle": "2024-06-09T06:54:20.492317Z",
          "shell.execute_reply.started": "2024-06-09T06:54:20.487500Z",
          "shell.execute_reply": "2024-06-09T06:54:20.491255Z"
        },
        "trusted": true
      },
      "execution_count": null,
      "outputs": []
    },
    {
      "cell_type": "code",
      "source": [
        "# history = model.fit(\n",
        "#     train_generator,\n",
        "#     validation_data=validation_generator,\n",
        "#     epochs=20,\n",
        "#     batch_size = 32,\n",
        "#     verbose=2,\n",
        "# #     callbacks=[early_stopping],\n",
        "# )"
      ],
      "metadata": {
        "id": "JsyPvY5rmTH8",
        "execution": {
          "iopub.status.busy": "2024-06-09T06:54:20.493401Z",
          "iopub.execute_input": "2024-06-09T06:54:20.493649Z",
          "iopub.status.idle": "2024-06-09T06:54:20.503489Z",
          "shell.execute_reply.started": "2024-06-09T06:54:20.493618Z",
          "shell.execute_reply": "2024-06-09T06:54:20.502717Z"
        },
        "trusted": true
      },
      "execution_count": null,
      "outputs": []
    },
    {
      "cell_type": "code",
      "source": [
        "# plot_history(history)"
      ],
      "metadata": {
        "id": "Xbm0ccxY48R9",
        "execution": {
          "iopub.status.busy": "2024-06-09T06:54:20.504590Z",
          "iopub.execute_input": "2024-06-09T06:54:20.504862Z",
          "iopub.status.idle": "2024-06-09T06:54:20.515376Z",
          "shell.execute_reply.started": "2024-06-09T06:54:20.504838Z",
          "shell.execute_reply": "2024-06-09T06:54:20.514676Z"
        },
        "trusted": true
      },
      "execution_count": null,
      "outputs": []
    },
    {
      "cell_type": "markdown",
      "source": [
        "# Fine Tuning"
      ],
      "metadata": {
        "id": "QvvX_KUIN1Pi"
      }
    },
    {
      "cell_type": "code",
      "source": [
        "mobilenet_v3_small_model.trainable = True\n",
        "\n",
        "# Let's take a look to see how many layers are in the base model\n",
        "print(\"Number of layers in the base model: \", len(mobilenet_v3_small_model.layers))\n",
        "\n",
        "# Fine-tune from this layer onwards\n",
        "fine_tune_at = 100\n",
        "\n",
        "# Freeze all the layers before the `fine_tune_at` layer\n",
        "for layer in mobilenet_v3_small_model.layers[:fine_tune_at]:\n",
        "  layer.trainable = False"
      ],
      "metadata": {
        "execution": {
          "iopub.status.busy": "2024-06-09T07:39:09.701603Z",
          "iopub.execute_input": "2024-06-09T07:39:09.702689Z",
          "iopub.status.idle": "2024-06-09T07:39:09.714978Z",
          "shell.execute_reply.started": "2024-06-09T07:39:09.702637Z",
          "shell.execute_reply": "2024-06-09T07:39:09.714079Z"
        },
        "trusted": true,
        "id": "8K6_jo3bN1Pi",
        "outputId": "02220c53-d491-4cd9-8306-4bb173f071be",
        "colab": {
          "base_uri": "https://localhost:8080/"
        }
      },
      "execution_count": null,
      "outputs": [
        {
          "output_type": "stream",
          "name": "stdout",
          "text": [
            "Number of layers in the base model:  229\n"
          ]
        }
      ]
    },
    {
      "cell_type": "code",
      "source": [
        "model = Sequential([\n",
        "    mobilenet_v3_small_model,\n",
        "    # GlobalAveragePooling2D(),\n",
        "    # Dropout(0.2),\n",
        "    # Dense(512, activation='relu'),\n",
        "    # Dropout(0.2),\n",
        "    # Dense(256, activation='relu'),\n",
        "    # Dense(64, activation='relu'),\n",
        "    # Dense(31, activation='softmax')\n",
        "    GlobalAveragePooling2D(),\n",
        "    Dropout(0.2),\n",
        "    Dense(31, activation='softmax')\n",
        "])\n",
        "\n",
        "optimizer = Adam(learning_rate=3e-4)\n",
        "model.compile(optimizer=optimizer, loss='categorical_crossentropy', metrics=['accuracy'])"
      ],
      "metadata": {
        "execution": {
          "iopub.status.busy": "2024-06-09T07:39:11.710680Z",
          "iopub.execute_input": "2024-06-09T07:39:11.711041Z",
          "iopub.status.idle": "2024-06-09T07:39:11.727762Z",
          "shell.execute_reply.started": "2024-06-09T07:39:11.711011Z",
          "shell.execute_reply": "2024-06-09T07:39:11.726917Z"
        },
        "trusted": true,
        "id": "rvXZYEEQN1Pi"
      },
      "execution_count": null,
      "outputs": []
    },
    {
      "cell_type": "code",
      "source": [
        "print(\"Input shape dari model:\", model.input_shape)"
      ],
      "metadata": {
        "colab": {
          "base_uri": "https://localhost:8080/"
        },
        "id": "wF7CvrXo91iD",
        "outputId": "4c7d6483-96a1-4c11-cb2d-d6e861a54ee5"
      },
      "execution_count": null,
      "outputs": [
        {
          "output_type": "stream",
          "name": "stdout",
          "text": [
            "Input shape dari model: (None, 224, 224, 3)\n"
          ]
        }
      ]
    },
    {
      "cell_type": "code",
      "source": [
        "history = model.fit(\n",
        "    train_generator,\n",
        "    validation_data=validation_generator,\n",
        "    epochs=30,\n",
        "    batch_size = 32,\n",
        "    verbose=2,\n",
        "    callbacks=[early_stopping, reduce_lr],\n",
        ")"
      ],
      "metadata": {
        "execution": {
          "iopub.status.busy": "2024-06-09T07:39:13.558578Z",
          "iopub.execute_input": "2024-06-09T07:39:13.558939Z",
          "iopub.status.idle": "2024-06-09T08:13:35.261222Z",
          "shell.execute_reply.started": "2024-06-09T07:39:13.558910Z",
          "shell.execute_reply": "2024-06-09T08:13:35.260004Z"
        },
        "trusted": true,
        "id": "UYiq2gliN1Pi",
        "outputId": "836ee65a-22ed-4a56-fc34-25c979626327",
        "colab": {
          "base_uri": "https://localhost:8080/"
        }
      },
      "execution_count": null,
      "outputs": [
        {
          "output_type": "stream",
          "name": "stdout",
          "text": [
            "Epoch 1/30\n"
          ]
        },
        {
          "output_type": "stream",
          "name": "stderr",
          "text": [
            "/usr/local/lib/python3.10/dist-packages/PIL/Image.py:996: UserWarning: Palette images with Transparency expressed in bytes should be converted to RGBA images\n",
            "  warnings.warn(\n"
          ]
        },
        {
          "output_type": "stream",
          "name": "stdout",
          "text": [
            "161/161 - 120s - loss: 1.9311 - accuracy: 0.4688 - val_loss: 1.4745 - val_accuracy: 0.5351 - lr: 3.0000e-04 - 120s/epoch - 745ms/step\n",
            "Epoch 2/30\n",
            "161/161 - 94s - loss: 0.7112 - accuracy: 0.7793 - val_loss: 1.2686 - val_accuracy: 0.6076 - lr: 3.0000e-04 - 94s/epoch - 582ms/step\n",
            "Epoch 3/30\n",
            "161/161 - 92s - loss: 0.4915 - accuracy: 0.8450 - val_loss: 0.8713 - val_accuracy: 0.7161 - lr: 3.0000e-04 - 92s/epoch - 570ms/step\n",
            "Epoch 4/30\n",
            "161/161 - 92s - loss: 0.3782 - accuracy: 0.8825 - val_loss: 0.7782 - val_accuracy: 0.7543 - lr: 3.0000e-04 - 92s/epoch - 570ms/step\n",
            "Epoch 5/30\n",
            "161/161 - 92s - loss: 0.3222 - accuracy: 0.8956 - val_loss: 0.6233 - val_accuracy: 0.8042 - lr: 3.0000e-04 - 92s/epoch - 574ms/step\n",
            "Epoch 6/30\n",
            "161/161 - 91s - loss: 0.2696 - accuracy: 0.9126 - val_loss: 0.5015 - val_accuracy: 0.8346 - lr: 3.0000e-04 - 91s/epoch - 565ms/step\n",
            "Epoch 7/30\n",
            "161/161 - 91s - loss: 0.2337 - accuracy: 0.9264 - val_loss: 0.3653 - val_accuracy: 0.8822 - lr: 3.0000e-04 - 91s/epoch - 563ms/step\n",
            "Epoch 8/30\n",
            "161/161 - 89s - loss: 0.2052 - accuracy: 0.9303 - val_loss: 0.3594 - val_accuracy: 0.8924 - lr: 3.0000e-04 - 89s/epoch - 555ms/step\n",
            "Epoch 9/30\n",
            "161/161 - 93s - loss: 0.1934 - accuracy: 0.9342 - val_loss: 0.3935 - val_accuracy: 0.8760 - lr: 3.0000e-04 - 93s/epoch - 576ms/step\n",
            "Epoch 10/30\n",
            "161/161 - 93s - loss: 0.1734 - accuracy: 0.9411 - val_loss: 0.3481 - val_accuracy: 0.8963 - lr: 3.0000e-04 - 93s/epoch - 578ms/step\n",
            "Epoch 11/30\n",
            "161/161 - 92s - loss: 0.1536 - accuracy: 0.9495 - val_loss: 0.2523 - val_accuracy: 0.9243 - lr: 3.0000e-04 - 92s/epoch - 570ms/step\n",
            "Epoch 12/30\n",
            "161/161 - 91s - loss: 0.1460 - accuracy: 0.9514 - val_loss: 0.2816 - val_accuracy: 0.9126 - lr: 3.0000e-04 - 91s/epoch - 564ms/step\n",
            "Epoch 13/30\n",
            "161/161 - 93s - loss: 0.1277 - accuracy: 0.9573 - val_loss: 0.3008 - val_accuracy: 0.9150 - lr: 3.0000e-04 - 93s/epoch - 575ms/step\n",
            "Epoch 14/30\n",
            "161/161 - 91s - loss: 0.1208 - accuracy: 0.9590 - val_loss: 0.2636 - val_accuracy: 0.9173 - lr: 3.0000e-04 - 91s/epoch - 564ms/step\n",
            "Epoch 15/30\n",
            "161/161 - 91s - loss: 0.1009 - accuracy: 0.9637 - val_loss: 0.2708 - val_accuracy: 0.9236 - lr: 1.5000e-04 - 91s/epoch - 568ms/step\n",
            "Epoch 16/30\n",
            "161/161 - 89s - loss: 0.0734 - accuracy: 0.9742 - val_loss: 0.2446 - val_accuracy: 0.9220 - lr: 1.5000e-04 - 89s/epoch - 555ms/step\n",
            "Epoch 17/30\n",
            "161/161 - 91s - loss: 0.0809 - accuracy: 0.9735 - val_loss: 0.2555 - val_accuracy: 0.9243 - lr: 1.5000e-04 - 91s/epoch - 564ms/step\n",
            "Epoch 18/30\n",
            "161/161 - 95s - loss: 0.0908 - accuracy: 0.9701 - val_loss: 0.2365 - val_accuracy: 0.9251 - lr: 1.5000e-04 - 95s/epoch - 588ms/step\n",
            "Epoch 19/30\n",
            "161/161 - 93s - loss: 0.0759 - accuracy: 0.9756 - val_loss: 0.2702 - val_accuracy: 0.9243 - lr: 1.5000e-04 - 93s/epoch - 580ms/step\n",
            "Epoch 20/30\n",
            "161/161 - 90s - loss: 0.0652 - accuracy: 0.9774 - val_loss: 0.2726 - val_accuracy: 0.9228 - lr: 1.5000e-04 - 90s/epoch - 557ms/step\n",
            "Epoch 21/30\n",
            "161/161 - 92s - loss: 0.0711 - accuracy: 0.9750 - val_loss: 0.2470 - val_accuracy: 0.9236 - lr: 1.5000e-04 - 92s/epoch - 574ms/step\n",
            "Epoch 22/30\n",
            "161/161 - 91s - loss: 0.0596 - accuracy: 0.9803 - val_loss: 0.2337 - val_accuracy: 0.9243 - lr: 7.5000e-05 - 91s/epoch - 563ms/step\n",
            "Epoch 23/30\n",
            "161/161 - 92s - loss: 0.0654 - accuracy: 0.9772 - val_loss: 0.2564 - val_accuracy: 0.9173 - lr: 7.5000e-05 - 92s/epoch - 573ms/step\n",
            "Epoch 24/30\n",
            "161/161 - 92s - loss: 0.0520 - accuracy: 0.9826 - val_loss: 0.2580 - val_accuracy: 0.9204 - lr: 7.5000e-05 - 92s/epoch - 571ms/step\n",
            "Epoch 25/30\n",
            "161/161 - 93s - loss: 0.0484 - accuracy: 0.9838 - val_loss: 0.2653 - val_accuracy: 0.9142 - lr: 7.5000e-05 - 93s/epoch - 576ms/step\n",
            "Epoch 26/30\n",
            "161/161 - 93s - loss: 0.0498 - accuracy: 0.9828 - val_loss: 0.2569 - val_accuracy: 0.9243 - lr: 3.7500e-05 - 93s/epoch - 579ms/step\n",
            "Epoch 27/30\n",
            "Restoring model weights from the end of the best epoch: 22.\n",
            "161/161 - 92s - loss: 0.0482 - accuracy: 0.9842 - val_loss: 0.2752 - val_accuracy: 0.9189 - lr: 3.7500e-05 - 92s/epoch - 574ms/step\n",
            "Epoch 27: early stopping\n"
          ]
        }
      ]
    },
    {
      "cell_type": "code",
      "source": [
        "plot_history(history)"
      ],
      "metadata": {
        "execution": {
          "iopub.status.busy": "2024-06-09T08:14:14.281170Z",
          "iopub.execute_input": "2024-06-09T08:14:14.282204Z",
          "iopub.status.idle": "2024-06-09T08:14:15.073367Z",
          "shell.execute_reply.started": "2024-06-09T08:14:14.282165Z",
          "shell.execute_reply": "2024-06-09T08:14:15.072253Z"
        },
        "trusted": true,
        "id": "t24Em3x9N1Pi",
        "outputId": "2ce5007d-12c6-456e-ffc2-ed8be62eaac3",
        "colab": {
          "base_uri": "https://localhost:8080/",
          "height": 507
        }
      },
      "execution_count": null,
      "outputs": [
        {
          "output_type": "display_data",
          "data": {
            "text/plain": [
              "<Figure size 1200x500 with 2 Axes>"
            ],
            "image/png": "[encoded data removed]"
          },
          "metadata": {}
        }
      ]
    },
    {
      "cell_type": "markdown",
      "source": [
        "# Save model"
      ],
      "metadata": {
        "id": "9fUn1MMwxax4"
      }
    },
    {
      "cell_type": "markdown",
      "source": [
        "## Save class indices"
      ],
      "metadata": {
        "id": "svfbIdF7vPEf"
      }
    },
    {
      "cell_type": "code",
      "source": [
        "np.save('class_indices.npy', train_generator.class_indices)"
      ],
      "metadata": {
        "id": "8oRoB_fyvSYo"
      },
      "execution_count": null,
      "outputs": []
    },
    {
      "cell_type": "markdown",
      "source": [
        "## Save as h5 model"
      ],
      "metadata": {
        "id": "gLBK0MDQvKtK"
      }
    },
    {
      "cell_type": "code",
      "source": [
        "model.save('mobilenet_v3_small.h5')"
      ],
      "metadata": {
        "execution": {
          "iopub.status.busy": "2024-06-09T08:15:04.959105Z",
          "iopub.execute_input": "2024-06-09T08:15:04.959851Z",
          "iopub.status.idle": "2024-06-09T08:15:05.237999Z",
          "shell.execute_reply.started": "2024-06-09T08:15:04.959819Z",
          "shell.execute_reply": "2024-06-09T08:15:05.237037Z"
        },
        "trusted": true,
        "id": "htFKq_5CN1Pi",
        "colab": {
          "base_uri": "https://localhost:8080/"
        },
        "outputId": "3e6a189a-b342-4116-d043-212f8aa5892f"
      },
      "execution_count": null,
      "outputs": [
        {
          "output_type": "stream",
          "name": "stderr",
          "text": [
            "/usr/local/lib/python3.10/dist-packages/keras/src/engine/training.py:3103: UserWarning: You are saving your model as an HDF5 file via `model.save()`. This file format is considered legacy. We recommend using instead the native Keras format, e.g. `model.save('my_model.keras')`.\n",
            "  saving_api.save_model(\n"
          ]
        }
      ]
    },
    {
      "cell_type": "markdown",
      "source": [
        "## Save as saved model"
      ],
      "metadata": {
        "id": "1Rgc3xpiu58F"
      }
    },
    {
      "cell_type": "code",
      "source": [
        "saved_model_dir = 'saved_model_mobilenet_v3_small'\n",
        "# tf.saved_model.save(model, saved_model_dir)"
      ],
      "metadata": {
        "id": "I7LwUa4ju-LP"
      },
      "execution_count": null,
      "outputs": []
    },
    {
      "cell_type": "markdown",
      "source": [
        "## Convert to Tflite"
      ],
      "metadata": {
        "id": "MI6wWKFcvUj2"
      }
    },
    {
      "cell_type": "code",
      "source": [
        "!pip uninstall tensorflow\n",
        "!pip install tensorflow==\"2.13.0\""
      ],
      "metadata": {
        "colab": {
          "base_uri": "https://localhost:8080/",
          "height": 1000
        },
        "id": "2Zq6xFC4fs01",
        "outputId": "b2ad60ee-ebc5-4d82-c415-6e5dd3c8cc2b"
      },
      "execution_count": null,
      "outputs": [
        {
          "output_type": "stream",
          "name": "stdout",
          "text": [
            "Found existing installation: tensorflow 2.15.0\n",
            "Uninstalling tensorflow-2.15.0:\n",
            "  Would remove:\n",
            "    /usr/local/bin/estimator_ckpt_converter\n",
            "    /usr/local/bin/import_pb_to_tensorboard\n",
            "    /usr/local/bin/saved_model_cli\n",
            "    /usr/local/bin/tensorboard\n",
            "    /usr/local/bin/tf_upgrade_v2\n",
            "    /usr/local/bin/tflite_convert\n",
            "    /usr/local/bin/toco\n",
            "    /usr/local/bin/toco_from_protos\n",
            "    /usr/local/lib/python3.10/dist-packages/tensorflow-2.15.0.dist-info/*\n",
            "    /usr/local/lib/python3.10/dist-packages/tensorflow/*\n",
            "Proceed (Y/n)? y\n",
            "  Successfully uninstalled tensorflow-2.15.0\n",
            "Collecting tensorflow==2.13.0\n",
            "  Downloading tensorflow-2.13.0-cp310-cp310-manylinux_2_17_x86_64.manylinux2014_x86_64.whl (524.1 MB)\n",
            "\u001b[2K     \u001b[90m━━━━━━━━━━━━━━━━━━━━━━━━━━━━━━━━━━━━━━━━\u001b[0m \u001b[32m524.1/524.1 MB\u001b[0m \u001b[31m1.5 MB/s\u001b[0m eta \u001b[36m0:00:00\u001b[0m\n",
            "\u001b[?25hRequirement already satisfied: absl-py>=1.0.0 in /usr/local/lib/python3.10/dist-packages (from tensorflow==2.13.0) (1.4.0)\n",
            "Requirement already satisfied: astunparse>=1.6.0 in /usr/local/lib/python3.10/dist-packages (from tensorflow==2.13.0) (1.6.3)\n",
            "Requirement already satisfied: flatbuffers>=23.1.21 in /usr/local/lib/python3.10/dist-packages (from tensorflow==2.13.0) (24.3.25)\n",
            "Collecting gast<=0.4.0,>=0.2.1 (from tensorflow==2.13.0)\n",
            "  Downloading gast-0.4.0-py3-none-any.whl (9.8 kB)\n",
            "Requirement already satisfied: google-pasta>=0.1.1 in /usr/local/lib/python3.10/dist-packages (from tensorflow==2.13.0) (0.2.0)\n",
            "Requirement already satisfied: grpcio<2.0,>=1.24.3 in /usr/local/lib/python3.10/dist-packages (from tensorflow==2.13.0) (1.64.1)\n",
            "Requirement already satisfied: h5py>=2.9.0 in /usr/local/lib/python3.10/dist-packages (from tensorflow==2.13.0) (3.9.0)\n",
            "Collecting keras<2.14,>=2.13.1 (from tensorflow==2.13.0)\n",
            "  Downloading keras-2.13.1-py3-none-any.whl (1.7 MB)\n",
            "\u001b[2K     \u001b[90m━━━━━━━━━━━━━━━━━━━━━━━━━━━━━━━━━━━━━━━━\u001b[0m \u001b[32m1.7/1.7 MB\u001b[0m \u001b[31m87.0 MB/s\u001b[0m eta \u001b[36m0:00:00\u001b[0m\n",
            "\u001b[?25hRequirement already satisfied: libclang>=13.0.0 in /usr/local/lib/python3.10/dist-packages (from tensorflow==2.13.0) (18.1.1)\n",
            "Collecting numpy<=1.24.3,>=1.22 (from tensorflow==2.13.0)\n",
            "  Downloading numpy-1.24.3-cp310-cp310-manylinux_2_17_x86_64.manylinux2014_x86_64.whl (17.3 MB)\n",
            "\u001b[2K     \u001b[90m━━━━━━━━━━━━━━━━━━━━━━━━━━━━━━━━━━━━━━━━\u001b[0m \u001b[32m17.3/17.3 MB\u001b[0m \u001b[31m73.1 MB/s\u001b[0m eta \u001b[36m0:00:00\u001b[0m\n",
            "\u001b[?25hRequirement already satisfied: opt-einsum>=2.3.2 in /usr/local/lib/python3.10/dist-packages (from tensorflow==2.13.0) (3.3.0)\n",
            "Requirement already satisfied: packaging in /usr/local/lib/python3.10/dist-packages (from tensorflow==2.13.0) (24.0)\n",
            "Requirement already satisfied: protobuf!=4.21.0,!=4.21.1,!=4.21.2,!=4.21.3,!=4.21.4,!=4.21.5,<5.0.0dev,>=3.20.3 in /usr/local/lib/python3.10/dist-packages (from tensorflow==2.13.0) (3.20.3)\n",
            "Requirement already satisfied: setuptools in /usr/local/lib/python3.10/dist-packages (from tensorflow==2.13.0) (67.7.2)\n",
            "Requirement already satisfied: six>=1.12.0 in /usr/local/lib/python3.10/dist-packages (from tensorflow==2.13.0) (1.16.0)\n",
            "Collecting tensorboard<2.14,>=2.13 (from tensorflow==2.13.0)\n",
            "  Downloading tensorboard-2.13.0-py3-none-any.whl (5.6 MB)\n",
            "\u001b[2K     \u001b[90m━━━━━━━━━━━━━━━━━━━━━━━━━━━━━━━━━━━━━━━━\u001b[0m \u001b[32m5.6/5.6 MB\u001b[0m \u001b[31m86.4 MB/s\u001b[0m eta \u001b[36m0:00:00\u001b[0m\n",
            "\u001b[?25hCollecting tensorflow-estimator<2.14,>=2.13.0 (from tensorflow==2.13.0)\n",
            "  Downloading tensorflow_estimator-2.13.0-py2.py3-none-any.whl (440 kB)\n",
            "\u001b[2K     \u001b[90m━━━━━━━━━━━━━━━━━━━━━━━━━━━━━━━━━━━━━━━━\u001b[0m \u001b[32m440.8/440.8 kB\u001b[0m \u001b[31m50.5 MB/s\u001b[0m eta \u001b[36m0:00:00\u001b[0m\n",
            "\u001b[?25hRequirement already satisfied: termcolor>=1.1.0 in /usr/local/lib/python3.10/dist-packages (from tensorflow==2.13.0) (2.4.0)\n",
            "Collecting typing-extensions<4.6.0,>=3.6.6 (from tensorflow==2.13.0)\n",
            "  Downloading typing_extensions-4.5.0-py3-none-any.whl (27 kB)\n",
            "Requirement already satisfied: wrapt>=1.11.0 in /usr/local/lib/python3.10/dist-packages (from tensorflow==2.13.0) (1.14.1)\n",
            "Requirement already satisfied: tensorflow-io-gcs-filesystem>=0.23.1 in /usr/local/lib/python3.10/dist-packages (from tensorflow==2.13.0) (0.37.0)\n",
            "Requirement already satisfied: wheel<1.0,>=0.23.0 in /usr/local/lib/python3.10/dist-packages (from astunparse>=1.6.0->tensorflow==2.13.0) (0.43.0)\n",
            "Requirement already satisfied: google-auth<3,>=1.6.3 in /usr/local/lib/python3.10/dist-packages (from tensorboard<2.14,>=2.13->tensorflow==2.13.0) (2.27.0)\n",
            "Collecting google-auth-oauthlib<1.1,>=0.5 (from tensorboard<2.14,>=2.13->tensorflow==2.13.0)\n",
            "  Downloading google_auth_oauthlib-1.0.0-py2.py3-none-any.whl (18 kB)\n",
            "Requirement already satisfied: markdown>=2.6.8 in /usr/local/lib/python3.10/dist-packages (from tensorboard<2.14,>=2.13->tensorflow==2.13.0) (3.6)\n",
            "Requirement already satisfied: requests<3,>=2.21.0 in /usr/local/lib/python3.10/dist-packages (from tensorboard<2.14,>=2.13->tensorflow==2.13.0) (2.31.0)\n",
            "Requirement already satisfied: tensorboard-data-server<0.8.0,>=0.7.0 in /usr/local/lib/python3.10/dist-packages (from tensorboard<2.14,>=2.13->tensorflow==2.13.0) (0.7.2)\n",
            "Requirement already satisfied: werkzeug>=1.0.1 in /usr/local/lib/python3.10/dist-packages (from tensorboard<2.14,>=2.13->tensorflow==2.13.0) (3.0.3)\n",
            "Requirement already satisfied: cachetools<6.0,>=2.0.0 in /usr/local/lib/python3.10/dist-packages (from google-auth<3,>=1.6.3->tensorboard<2.14,>=2.13->tensorflow==2.13.0) (5.3.3)\n",
            "Requirement already satisfied: pyasn1-modules>=0.2.1 in /usr/local/lib/python3.10/dist-packages (from google-auth<3,>=1.6.3->tensorboard<2.14,>=2.13->tensorflow==2.13.0) (0.4.0)\n",
            "Requirement already satisfied: rsa<5,>=3.1.4 in /usr/local/lib/python3.10/dist-packages (from google-auth<3,>=1.6.3->tensorboard<2.14,>=2.13->tensorflow==2.13.0) (4.9)\n",
            "Requirement already satisfied: requests-oauthlib>=0.7.0 in /usr/local/lib/python3.10/dist-packages (from google-auth-oauthlib<1.1,>=0.5->tensorboard<2.14,>=2.13->tensorflow==2.13.0) (1.3.1)\n",
            "Requirement already satisfied: charset-normalizer<4,>=2 in /usr/local/lib/python3.10/dist-packages (from requests<3,>=2.21.0->tensorboard<2.14,>=2.13->tensorflow==2.13.0) (3.3.2)\n",
            "Requirement already satisfied: idna<4,>=2.5 in /usr/local/lib/python3.10/dist-packages (from requests<3,>=2.21.0->tensorboard<2.14,>=2.13->tensorflow==2.13.0) (3.7)\n",
            "Requirement already satisfied: urllib3<3,>=1.21.1 in /usr/local/lib/python3.10/dist-packages (from requests<3,>=2.21.0->tensorboard<2.14,>=2.13->tensorflow==2.13.0) (2.0.7)\n",
            "Requirement already satisfied: certifi>=2017.4.17 in /usr/local/lib/python3.10/dist-packages (from requests<3,>=2.21.0->tensorboard<2.14,>=2.13->tensorflow==2.13.0) (2024.6.2)\n",
            "Requirement already satisfied: MarkupSafe>=2.1.1 in /usr/local/lib/python3.10/dist-packages (from werkzeug>=1.0.1->tensorboard<2.14,>=2.13->tensorflow==2.13.0) (2.1.5)\n",
            "Requirement already satisfied: pyasn1<0.7.0,>=0.4.6 in /usr/local/lib/python3.10/dist-packages (from pyasn1-modules>=0.2.1->google-auth<3,>=1.6.3->tensorboard<2.14,>=2.13->tensorflow==2.13.0) (0.6.0)\n",
            "Requirement already satisfied: oauthlib>=3.0.0 in /usr/local/lib/python3.10/dist-packages (from requests-oauthlib>=0.7.0->google-auth-oauthlib<1.1,>=0.5->tensorboard<2.14,>=2.13->tensorflow==2.13.0) (3.2.2)\n",
            "Installing collected packages: typing-extensions, tensorflow-estimator, numpy, keras, gast, google-auth-oauthlib, tensorboard, tensorflow\n",
            "  Attempting uninstall: typing-extensions\n",
            "    Found existing installation: typing_extensions 4.12.1\n",
            "    Uninstalling typing_extensions-4.12.1:\n",
            "      Successfully uninstalled typing_extensions-4.12.1\n",
            "  Attempting uninstall: tensorflow-estimator\n",
            "    Found existing installation: tensorflow-estimator 2.15.0\n",
            "    Uninstalling tensorflow-estimator-2.15.0:\n",
            "      Successfully uninstalled tensorflow-estimator-2.15.0\n",
            "  Attempting uninstall: numpy\n",
            "    Found existing installation: numpy 1.25.2\n",
            "    Uninstalling numpy-1.25.2:\n",
            "      Successfully uninstalled numpy-1.25.2\n",
            "  Attempting uninstall: keras\n",
            "    Found existing installation: keras 2.15.0\n",
            "    Uninstalling keras-2.15.0:\n",
            "      Successfully uninstalled keras-2.15.0\n",
            "  Attempting uninstall: gast\n",
            "    Found existing installation: gast 0.5.4\n",
            "    Uninstalling gast-0.5.4:\n",
            "      Successfully uninstalled gast-0.5.4\n",
            "  Attempting uninstall: google-auth-oauthlib\n",
            "    Found existing installation: google-auth-oauthlib 1.2.0\n",
            "    Uninstalling google-auth-oauthlib-1.2.0:\n",
            "      Successfully uninstalled google-auth-oauthlib-1.2.0\n",
            "  Attempting uninstall: tensorboard\n",
            "    Found existing installation: tensorboard 2.15.2\n",
            "    Uninstalling tensorboard-2.15.2:\n",
            "      Successfully uninstalled tensorboard-2.15.2\n",
            "\u001b[31mERROR: pip's dependency resolver does not currently take into account all the packages that are installed. This behaviour is the source of the following dependency conflicts.\n",
            "torch 2.3.0+cu121 requires nvidia-cublas-cu12==12.1.3.1; platform_system == \"Linux\" and platform_machine == \"x86_64\", which is not installed.\n",
            "torch 2.3.0+cu121 requires nvidia-cuda-cupti-cu12==12.1.105; platform_system == \"Linux\" and platform_machine == \"x86_64\", which is not installed.\n",
            "torch 2.3.0+cu121 requires nvidia-cuda-nvrtc-cu12==12.1.105; platform_system == \"Linux\" and platform_machine == \"x86_64\", which is not installed.\n",
            "torch 2.3.0+cu121 requires nvidia-cuda-runtime-cu12==12.1.105; platform_system == \"Linux\" and platform_machine == \"x86_64\", which is not installed.\n",
            "torch 2.3.0+cu121 requires nvidia-cudnn-cu12==8.9.2.26; platform_system == \"Linux\" and platform_machine == \"x86_64\", which is not installed.\n",
            "torch 2.3.0+cu121 requires nvidia-cufft-cu12==11.0.2.54; platform_system == \"Linux\" and platform_machine == \"x86_64\", which is not installed.\n",
            "torch 2.3.0+cu121 requires nvidia-curand-cu12==10.3.2.106; platform_system == \"Linux\" and platform_machine == \"x86_64\", which is not installed.\n",
            "torch 2.3.0+cu121 requires nvidia-cusolver-cu12==11.4.5.107; platform_system == \"Linux\" and platform_machine == \"x86_64\", which is not installed.\n",
            "torch 2.3.0+cu121 requires nvidia-cusparse-cu12==12.1.0.106; platform_system == \"Linux\" and platform_machine == \"x86_64\", which is not installed.\n",
            "torch 2.3.0+cu121 requires nvidia-nccl-cu12==2.20.5; platform_system == \"Linux\" and platform_machine == \"x86_64\", which is not installed.\n",
            "torch 2.3.0+cu121 requires nvidia-nvtx-cu12==12.1.105; platform_system == \"Linux\" and platform_machine == \"x86_64\", which is not installed.\n",
            "sqlalchemy 2.0.30 requires typing-extensions>=4.6.0, but you have typing-extensions 4.5.0 which is incompatible.\n",
            "pandas-stubs 2.0.3.230814 requires numpy>=1.25.0; python_version >= \"3.9\", but you have numpy 1.24.3 which is incompatible.\n",
            "pydantic 2.7.3 requires typing-extensions>=4.6.1, but you have typing-extensions 4.5.0 which is incompatible.\n",
            "pydantic-core 2.18.4 requires typing-extensions!=4.7.0,>=4.6.0, but you have typing-extensions 4.5.0 which is incompatible.\n",
            "tf-keras 2.15.1 requires tensorflow<2.16,>=2.15, but you have tensorflow 2.13.0 which is incompatible.\n",
            "torch 2.3.0+cu121 requires typing-extensions>=4.8.0, but you have typing-extensions 4.5.0 which is incompatible.\u001b[0m\u001b[31m\n",
            "\u001b[0mSuccessfully installed gast-0.4.0 google-auth-oauthlib-1.0.0 keras-2.13.1 numpy-1.24.3 tensorboard-2.13.0 tensorflow-2.13.0 tensorflow-estimator-2.13.0 typing-extensions-4.5.0\n"
          ]
        },
        {
          "output_type": "display_data",
          "data": {
            "application/vnd.colab-display-data+json": {
              "pip_warning": {
                "packages": [
                  "gast",
                  "keras",
                  "numpy",
                  "tensorboard",
                  "tensorflow"
                ]
              },
              "id": "a21a58588ebf4b0783e3d238976ff3d2"
            }
          },
          "metadata": {}
        }
      ]
    },
    {
      "cell_type": "code",
      "source": [
        "pip install tflite-support"
      ],
      "metadata": {
        "colab": {
          "base_uri": "https://localhost:8080/"
        },
        "id": "POfOI5QAfp8r",
        "outputId": "cfa5b7b3-ad53-4d12-852c-bbcb55a5f3d4"
      },
      "execution_count": null,
      "outputs": [
        {
          "output_type": "stream",
          "name": "stdout",
          "text": [
            "Collecting tflite-support\n",
            "  Downloading tflite_support-0.4.4-cp310-cp310-manylinux2014_x86_64.whl (60.8 MB)\n",
            "\u001b[2K     \u001b[90m━━━━━━━━━━━━━━━━━━━━━━━━━━━━━━━━━━━━━━━━\u001b[0m \u001b[32m60.8/60.8 MB\u001b[0m \u001b[31m10.4 MB/s\u001b[0m eta \u001b[36m0:00:00\u001b[0m\n",
            "\u001b[?25hRequirement already satisfied: absl-py>=0.7.0 in /usr/local/lib/python3.10/dist-packages (from tflite-support) (1.4.0)\n",
            "Requirement already satisfied: numpy>=1.20.0 in /usr/local/lib/python3.10/dist-packages (from tflite-support) (1.24.3)\n",
            "Requirement already satisfied: flatbuffers>=2.0 in /usr/local/lib/python3.10/dist-packages (from tflite-support) (24.3.25)\n",
            "Requirement already satisfied: protobuf<4,>=3.18.0 in /usr/local/lib/python3.10/dist-packages (from tflite-support) (3.20.3)\n",
            "Collecting sounddevice>=0.4.4 (from tflite-support)\n",
            "  Downloading sounddevice-0.4.7-py3-none-any.whl (32 kB)\n",
            "Collecting pybind11>=2.6.0 (from tflite-support)\n",
            "  Downloading pybind11-2.12.0-py3-none-any.whl (234 kB)\n",
            "\u001b[2K     \u001b[90m━━━━━━━━━━━━━━━━━━━━━━━━━━━━━━━━━━━━━━━━\u001b[0m \u001b[32m235.0/235.0 kB\u001b[0m \u001b[31m24.4 MB/s\u001b[0m eta \u001b[36m0:00:00\u001b[0m\n",
            "\u001b[?25hRequirement already satisfied: CFFI>=1.0 in /usr/local/lib/python3.10/dist-packages (from sounddevice>=0.4.4->tflite-support) (1.16.0)\n",
            "Requirement already satisfied: pycparser in /usr/local/lib/python3.10/dist-packages (from CFFI>=1.0->sounddevice>=0.4.4->tflite-support) (2.22)\n",
            "Installing collected packages: pybind11, sounddevice, tflite-support\n",
            "Successfully installed pybind11-2.12.0 sounddevice-0.4.7 tflite-support-0.4.4\n"
          ]
        }
      ]
    },
    {
      "cell_type": "code",
      "source": [
        "class_indices = np.load('class_indices.npy', allow_pickle=True).item()\n",
        "\n",
        "with open('class_labels.txt', 'w') as f:\n",
        "    for class_name in class_indices:\n",
        "        f.write(f\"{class_name}\\n\")"
      ],
      "metadata": {
        "id": "mFlY4x1MfoXl"
      },
      "execution_count": null,
      "outputs": []
    },
    {
      "cell_type": "code",
      "source": [
        "from tflite_support.metadata_writers import image_classifier\n",
        "from tflite_support.metadata_writers import writer_utils\n",
        "\n",
        "converter = tf.lite.TFLiteConverter.from_saved_model(saved_model_dir)\n",
        "# converter = tf.lite.TFLiteConverter.from_keras_model(model)\n",
        "\n",
        "# Mengonversi model ke format TFLite\n",
        "tflite_model = converter.convert()\n",
        "\n",
        "# Save the model to a file\n",
        "with open('mobilenet_v3.tflite', 'wb') as f:\n",
        "    f.write(tflite_model)\n",
        "\n",
        "# Create metadata for the mobilenet_v3\n",
        "writer = image_classifier.MetadataWriter.create_for_inference(\n",
        "    writer_utils.load_file('mobilenet_v3.tflite'),\n",
        "    input_norm_mean=[0],  # Mean value for normalization (0 means no normalization)\n",
        "    input_norm_std=[1],   # Standard deviation for normalization (1 means no normalization)\n",
        "    label_file_paths=['class_labels.txt']\n",
        ")\n",
        "\n",
        "# Populate the metadata into the mobilenet_v3 file\n",
        "writer_utils.save_file(writer.populate(), 'mobilenet_v3_with_metadata.tflite')\n"
      ],
      "metadata": {
        "id": "SoQEwNLtvW03"
      },
      "execution_count": null,
      "outputs": []
    },
    {
      "cell_type": "markdown",
      "source": [
        "# Make Prediction"
      ],
      "metadata": {
        "id": "jt7lohA1OTiN"
      }
    },
    {
      "cell_type": "code",
      "source": [
        "class_indices = np.load('class_indices.npy', allow_pickle=True).item()\n",
        "class_labels = {v: k for k, v in class_indices.items()}\n",
        "class_labels"
      ],
      "metadata": {
        "execution": {
          "iopub.status.busy": "2024-06-09T08:44:23.540306Z",
          "iopub.execute_input": "2024-06-09T08:44:23.540704Z",
          "iopub.status.idle": "2024-06-09T08:44:23.547966Z",
          "shell.execute_reply.started": "2024-06-09T08:44:23.540674Z",
          "shell.execute_reply": "2024-06-09T08:44:23.546823Z"
        },
        "trusted": true,
        "colab": {
          "base_uri": "https://localhost:8080/"
        },
        "id": "jWyxREChN1Pj",
        "outputId": "c04e1110-1d42-47d1-e0f6-619ac8e3c67a"
      },
      "execution_count": null,
      "outputs": [
        {
          "output_type": "execute_result",
          "data": {
            "text/plain": [
              "{0: 'adas',\n",
              " 1: 'andaliman',\n",
              " 2: 'asam jawa',\n",
              " 3: 'bawang bombai',\n",
              " 4: 'bawang merah',\n",
              " 5: 'bawang putih',\n",
              " 6: 'biji ketumbar',\n",
              " 7: 'bukan rempah',\n",
              " 8: 'bunga lawang',\n",
              " 9: 'cengkeh',\n",
              " 10: 'daun jeruk',\n",
              " 11: 'daun kemangi',\n",
              " 12: 'daun ketumbar',\n",
              " 13: 'daun salam',\n",
              " 14: 'jahe',\n",
              " 15: 'jinten',\n",
              " 16: 'kapulaga',\n",
              " 17: 'kayu manis',\n",
              " 18: 'kayu secang',\n",
              " 19: 'kemiri',\n",
              " 20: 'kemukus',\n",
              " 21: 'kencur',\n",
              " 22: 'kluwek',\n",
              " 23: 'kunyit',\n",
              " 24: 'lada',\n",
              " 25: 'lengkuas',\n",
              " 26: 'pala',\n",
              " 27: 'saffron',\n",
              " 28: 'serai',\n",
              " 29: 'vanili',\n",
              " 30: 'wijen'}"
            ]
          },
          "metadata": {},
          "execution_count": 9
        }
      ]
    },
    {
      "cell_type": "code",
      "source": [
        "model = load_model('mobilenet_v3_small.h5')"
      ],
      "metadata": {
        "id": "w_HDD51eQxee"
      },
      "execution_count": null,
      "outputs": []
    },
    {
      "cell_type": "code",
      "source": [
        "from sklearn.metrics import classification_report\n",
        "\n",
        "test_generator = val_datagen.flow_from_directory(\n",
        "    val_dir,\n",
        "    target_size=(224, 224),\n",
        "    batch_size=32,\n",
        "    shuffle=False,\n",
        "    class_mode='categorical'\n",
        ")\n",
        "\n",
        "\n",
        "y_true = test_generator.classes\n",
        "\n",
        "y_pred = model.predict(test_generator)\n",
        "y_pred_classes = np.argmax(y_pred, axis=1)\n",
        "\n",
        "# Hitung metrik\n",
        "report = classification_report(y_true, y_pred_classes)\n",
        "print(report)"
      ],
      "metadata": {
        "colab": {
          "base_uri": "https://localhost:8080/"
        },
        "id": "SwEggUYDmoob",
        "outputId": "51a6d70a-0227-4986-ece9-5207ce18899b"
      },
      "execution_count": null,
      "outputs": [
        {
          "output_type": "stream",
          "name": "stdout",
          "text": [
            "Found 1282 images belonging to 31 classes.\n",
            "41/41 [==============================] - 22s 511ms/step\n",
            "              precision    recall  f1-score   support\n",
            "\n",
            "           0       0.97      0.90      0.94        42\n",
            "           1       0.95      0.97      0.96        39\n",
            "           2       0.91      1.00      0.95        40\n",
            "           3       1.00      1.00      1.00        41\n",
            "           4       0.98      1.00      0.99        41\n",
            "           5       1.00      0.98      0.99        41\n",
            "           6       0.72      0.93      0.81        41\n",
            "           7       0.95      0.93      0.94        40\n",
            "           8       0.95      1.00      0.98        41\n",
            "           9       0.92      0.88      0.90        40\n",
            "          10       0.93      0.90      0.91        41\n",
            "          11       0.92      0.85      0.89        41\n",
            "          12       0.98      0.98      0.98        43\n",
            "          13       0.83      0.91      0.87        43\n",
            "          14       0.90      0.85      0.88        41\n",
            "          15       0.90      0.97      0.94        38\n",
            "          16       0.87      0.81      0.84        42\n",
            "          17       0.87      0.98      0.92        56\n",
            "          18       0.97      0.89      0.93        38\n",
            "          19       0.84      0.74      0.79        43\n",
            "          20       0.89      0.97      0.93        40\n",
            "          21       0.92      0.90      0.91        40\n",
            "          22       0.95      0.88      0.91        41\n",
            "          23       0.93      0.95      0.94        41\n",
            "          24       0.91      0.76      0.83        42\n",
            "          25       0.97      0.93      0.95        42\n",
            "          26       0.95      0.93      0.94        42\n",
            "          27       0.95      1.00      0.98        40\n",
            "          28       0.98      1.00      0.99        41\n",
            "          29       1.00      0.93      0.96        40\n",
            "          30       0.95      0.93      0.94        41\n",
            "\n",
            "    accuracy                           0.92      1282\n",
            "   macro avg       0.93      0.92      0.92      1282\n",
            "weighted avg       0.93      0.92      0.92      1282\n",
            "\n"
          ]
        }
      ]
    },
    {
      "cell_type": "code",
      "source": [
        "from google.colab import files\n",
        "from tensorflow.keras.utils import load_img, img_to_array\n",
        "\n",
        "\n",
        "# Load class indices\n",
        "class_indices = np.load('class_indices.npy', allow_pickle=True).item()\n",
        "class_labels = {v: k for k, v in class_indices.items()}\n",
        "\n",
        "# Upload files\n",
        "uploaded = files.upload()\n",
        "\n",
        "# Create test folder if it doesn't exist\n",
        "if not os.path.exists('test'):\n",
        "    os.makedirs('test')\n",
        "\n",
        "for fn in uploaded.keys():\n",
        "    # Move the uploaded file to the test folder\n",
        "    os.rename(fn, os.path.join('test', fn))\n",
        "    path = os.path.join('test', fn)\n",
        "\n",
        "    # Predicting images\n",
        "    img = load_img(path, target_size=(224, 224))\n",
        "    x = img_to_array(img)\n",
        "    x = np.expand_dims(x, axis=0)\n",
        "\n",
        "    predictions = model.predict(x)\n",
        "    predicted_class_index = np.argmax(predictions, axis=1)[0]\n",
        "    predicted_class_label = class_labels[predicted_class_index]\n",
        "\n",
        "    # Menampilkan hasil prediksi\n",
        "    print(f'Gambar {fn} diprediksi sebagai kelas: {predicted_class_label} dengan probabilitas: {predictions[0][predicted_class_index]}')"
      ],
      "metadata": {
        "execution": {
          "iopub.status.busy": "2024-06-09T08:44:53.419860Z",
          "iopub.execute_input": "2024-06-09T08:44:53.420911Z",
          "iopub.status.idle": "2024-06-09T08:44:53.428543Z",
          "shell.execute_reply.started": "2024-06-09T08:44:53.420872Z",
          "shell.execute_reply": "2024-06-09T08:44:53.427497Z"
        },
        "trusted": true,
        "colab": {
          "base_uri": "https://localhost:8080/",
          "height": 1000
        },
        "id": "JeP0yhLmN1Pj",
        "outputId": "884d881a-89c6-4316-e79b-87cd19f322ec"
      },
      "execution_count": null,
      "outputs": [
        {
          "output_type": "display_data",
          "data": {
            "text/plain": [
              "<IPython.core.display.HTML object>"
            ],
            "text/html": [
              "\n",
              "     <input type=\"file\" id=\"files-c96ca1fc-00cd-4d77-a178-cf6d003fa531\" name=\"files[]\" multiple disabled\n",
              "        style=\"border:none\" />\n",
              "     <output id=\"result-c96ca1fc-00cd-4d77-a178-cf6d003fa531\">\n",
              "      Upload widget is only available when the cell has been executed in the\n",
              "      current browser session. Please rerun this cell to enable.\n",
              "      </output>\n",
              "      <script>// Copyright 2017 Google LLC\n",
              "//\n",
              "// Licensed under the Apache License, Version 2.0 (the \"License\");\n",
              "// you may not use this file except in compliance with the License.\n",
              "// You may obtain a copy of the License at\n",
              "//\n",
              "//      http://www.apache.org/licenses/LICENSE-2.0\n",
              "//\n",
              "// Unless required by applicable law or agreed to in writing, software\n",
              "// distributed under the License is distributed on an \"AS IS\" BASIS,\n",
              "// WITHOUT WARRANTIES OR CONDITIONS OF ANY KIND, either express or implied.\n",
              "// See the License for the specific language governing permissions and\n",
              "// limitations under the License.\n",
              "\n",
              "/**\n",
              " * @fileoverview Helpers for google.colab Python module.\n",
              " */\n",
              "(function(scope) {\n",
              "function span(text, styleAttributes = {}) {\n",
              "  const element = document.createElement('span');\n",
              "  element.textContent = text;\n",
              "  for (const key of Object.keys(styleAttributes)) {\n",
              "    element.style[key] = styleAttributes[key];\n",
              "  }\n",
              "  return element;\n",
              "}\n",
              "\n",
              "// Max number of bytes which will be uploaded at a time.\n",
              "const MAX_PAYLOAD_SIZE = 100 * 1024;\n",
              "\n",
              "function _uploadFiles(inputId, outputId) {\n",
              "  const steps = uploadFilesStep(inputId, outputId);\n",
              "  const outputElement = document.getElementById(outputId);\n",
              "  // Cache steps on the outputElement to make it available for the next call\n",
              "  // to uploadFilesContinue from Python.\n",
              "  outputElement.steps = steps;\n",
              "\n",
              "  return _uploadFilesContinue(outputId);\n",
              "}\n",
              "\n",
              "// This is roughly an async generator (not supported in the browser yet),\n",
              "// where there are multiple asynchronous steps and the Python side is going\n",
              "// to poll for completion of each step.\n",
              "// This uses a Promise to block the python side on completion of each step,\n",
              "// then passes the result of the previous step as the input to the next step.\n",
              "function _uploadFilesContinue(outputId) {\n",
              "  const outputElement = document.getElementById(outputId);\n",
              "  const steps = outputElement.steps;\n",
              "\n",
              "  const next = steps.next(outputElement.lastPromiseValue);\n",
              "  return Promise.resolve(next.value.promise).then((value) => {\n",
              "    // Cache the last promise value to make it available to the next\n",
              "    // step of the generator.\n",
              "    outputElement.lastPromiseValue = value;\n",
              "    return next.value.response;\n",
              "  });\n",
              "}\n",
              "\n",
              "/**\n",
              " * Generator function which is called between each async step of the upload\n",
              " * process.\n",
              " * @param {string} inputId Element ID of the input file picker element.\n",
              " * @param {string} outputId Element ID of the output display.\n",
              " * @return {!Iterable<!Object>} Iterable of next steps.\n",
              " */\n",
              "function* uploadFilesStep(inputId, outputId) {\n",
              "  const inputElement = document.getElementById(inputId);\n",
              "  inputElement.disabled = false;\n",
              "\n",
              "  const outputElement = document.getElementById(outputId);\n",
              "  outputElement.innerHTML = '';\n",
              "\n",
              "  const pickedPromise = new Promise((resolve) => {\n",
              "    inputElement.addEventListener('change', (e) => {\n",
              "      resolve(e.target.files);\n",
              "    });\n",
              "  });\n",
              "\n",
              "  const cancel = document.createElement('button');\n",
              "  inputElement.parentElement.appendChild(cancel);\n",
              "  cancel.textContent = 'Cancel upload';\n",
              "  const cancelPromise = new Promise((resolve) => {\n",
              "    cancel.onclick = () => {\n",
              "      resolve(null);\n",
              "    };\n",
              "  });\n",
              "\n",
              "  // Wait for the user to pick the files.\n",
              "  const files = yield {\n",
              "    promise: Promise.race([pickedPromise, cancelPromise]),\n",
              "    response: {\n",
              "      action: 'starting',\n",
              "    }\n",
              "  };\n",
              "\n",
              "  cancel.remove();\n",
              "\n",
              "  // Disable the input element since further picks are not allowed.\n",
              "  inputElement.disabled = true;\n",
              "\n",
              "  if (!files) {\n",
              "    return {\n",
              "      response: {\n",
              "        action: 'complete',\n",
              "      }\n",
              "    };\n",
              "  }\n",
              "\n",
              "  for (const file of files) {\n",
              "    const li = document.createElement('li');\n",
              "    li.append(span(file.name, {fontWeight: 'bold'}));\n",
              "    li.append(span(\n",
              "        `(${file.type || 'n/a'}) - ${file.size} bytes, ` +\n",
              "        `last modified: ${\n",
              "            file.lastModifiedDate ? file.lastModifiedDate.toLocaleDateString() :\n",
              "                                    'n/a'} - `));\n",
              "    const percent = span('0% done');\n",
              "    li.appendChild(percent);\n",
              "\n",
              "    outputElement.appendChild(li);\n",
              "\n",
              "    const fileDataPromise = new Promise((resolve) => {\n",
              "      const reader = new FileReader();\n",
              "      reader.onload = (e) => {\n",
              "        resolve(e.target.result);\n",
              "      };\n",
              "      reader.readAsArrayBuffer(file);\n",
              "    });\n",
              "    // Wait for the data to be ready.\n",
              "    let fileData = yield {\n",
              "      promise: fileDataPromise,\n",
              "      response: {\n",
              "        action: 'continue',\n",
              "      }\n",
              "    };\n",
              "\n",
              "    // Use a chunked sending to avoid message size limits. See b/62115660.\n",
              "    let position = 0;\n",
              "    do {\n",
              "      const length = Math.min(fileData.byteLength - position, MAX_PAYLOAD_SIZE);\n",
              "      const chunk = new Uint8Array(fileData, position, length);\n",
              "      position += length;\n",
              "\n",
              "      const base64 = btoa(String.fromCharCode.apply(null, chunk));\n",
              "      yield {\n",
              "        response: {\n",
              "          action: 'append',\n",
              "          file: file.name,\n",
              "          data: base64,\n",
              "        },\n",
              "      };\n",
              "\n",
              "      let percentDone = fileData.byteLength === 0 ?\n",
              "          100 :\n",
              "          Math.round((position / fileData.byteLength) * 100);\n",
              "      percent.textContent = `${percentDone}% done`;\n",
              "\n",
              "    } while (position < fileData.byteLength);\n",
              "  }\n",
              "\n",
              "  // All done.\n",
              "  yield {\n",
              "    response: {\n",
              "      action: 'complete',\n",
              "    }\n",
              "  };\n",
              "}\n",
              "\n",
              "scope.google = scope.google || {};\n",
              "scope.google.colab = scope.google.colab || {};\n",
              "scope.google.colab._files = {\n",
              "  _uploadFiles,\n",
              "  _uploadFilesContinue,\n",
              "};\n",
              "})(self);\n",
              "</script> "
            ]
          },
          "metadata": {}
        },
        {
          "output_type": "stream",
          "name": "stdout",
          "text": [
            "Saving adas-1.jpg to adas-1 (1).jpg\n",
            "Saving bawang_bombay_1.jpg to bawang_bombay_1 (1).jpg\n",
            "Saving bawang_merah_1.jpg to bawang_merah_1 (1).jpg\n",
            "Saving bawang-putih_1.jpg to bawang-putih_1 (1).jpg\n",
            "Saving bawang-putih_2.jpg to bawang-putih_2 (1).jpg\n",
            "Saving biji_ketumbar_1.jpg to biji_ketumbar_1 (1).jpg\n",
            "Saving bunga_lawang_1.jpg to bunga_lawang_1 (1).jpg\n",
            "Saving cengkeh_1.png to cengkeh_1 (1).png\n",
            "Saving daun_salam_1.jpg to daun_salam_1 (1).jpg\n",
            "Saving daun-jeruk_1.jpg to daun-jeruk_1 (1).jpg\n",
            "Saving daun-kemangi_1.jpg to daun-kemangi_1 (1).jpg\n",
            "Saving jahe_1.jpg to jahe_1 (1).jpg\n",
            "Saving kapulaga_1.jpg to kapulaga_1 (1).jpg\n",
            "Saving kayu_manis_1.png to kayu_manis_1 (1).png\n",
            "Saving kayu_manis_2.png to kayu_manis_2 (1).png\n",
            "Saving kayu_secang_1.jpg to kayu_secang_1 (1).jpg\n",
            "Saving kemiri_1.jpg to kemiri_1 (1).jpg\n",
            "Saving kluwek_1.jpg to kluwek_1 (1).jpg\n",
            "Saving kunyit_1.png to kunyit_1 (1).png\n",
            "Saving kunyit_2.jpg to kunyit_2 (1).jpg\n",
            "Saving lada_1.jpg to lada_1 (1).jpg\n",
            "Saving lengkuas_1.jpg to lengkuas_1 (1).jpg\n",
            "Saving pala_1.jpg to pala_1 (1).jpg\n",
            "Saving wijen_1.jpg to wijen_1 (1).jpg\n",
            "1/1 [==============================] - 1s 811ms/step\n",
            "Gambar adas-1 (1).jpg diprediksi sebagai kelas: adas dengan probabilitas: 0.9937058091163635\n",
            "1/1 [==============================] - 0s 32ms/step\n",
            "Gambar bawang_bombay_1 (1).jpg diprediksi sebagai kelas: bawang bombai dengan probabilitas: 0.9979708790779114\n",
            "1/1 [==============================] - 0s 30ms/step\n",
            "Gambar bawang_merah_1 (1).jpg diprediksi sebagai kelas: bawang merah dengan probabilitas: 0.8800132870674133\n",
            "1/1 [==============================] - 0s 35ms/step\n",
            "Gambar bawang-putih_1 (1).jpg diprediksi sebagai kelas: pala dengan probabilitas: 0.550468921661377\n",
            "1/1 [==============================] - 0s 33ms/step\n",
            "Gambar bawang-putih_2 (1).jpg diprediksi sebagai kelas: bawang putih dengan probabilitas: 0.9987001419067383\n",
            "1/1 [==============================] - 0s 33ms/step\n",
            "Gambar biji_ketumbar_1 (1).jpg diprediksi sebagai kelas: lada dengan probabilitas: 0.775590181350708\n",
            "1/1 [==============================] - 0s 36ms/step\n",
            "Gambar bunga_lawang_1 (1).jpg diprediksi sebagai kelas: bunga lawang dengan probabilitas: 0.9955026507377625\n",
            "1/1 [==============================] - 0s 31ms/step\n",
            "Gambar cengkeh_1 (1).png diprediksi sebagai kelas: cengkeh dengan probabilitas: 0.9958107471466064\n",
            "1/1 [==============================] - 0s 28ms/step\n",
            "Gambar daun_salam_1 (1).jpg diprediksi sebagai kelas: daun salam dengan probabilitas: 0.9866999387741089\n",
            "1/1 [==============================] - 0s 33ms/step\n",
            "Gambar daun-jeruk_1 (1).jpg diprediksi sebagai kelas: daun jeruk dengan probabilitas: 0.9810020923614502\n",
            "1/1 [==============================] - 0s 46ms/step\n",
            "Gambar daun-kemangi_1 (1).jpg diprediksi sebagai kelas: daun kemangi dengan probabilitas: 0.9995736479759216\n",
            "1/1 [==============================] - 0s 32ms/step\n",
            "Gambar jahe_1 (1).jpg diprediksi sebagai kelas: jahe dengan probabilitas: 0.9247860908508301\n",
            "1/1 [==============================] - 0s 29ms/step\n",
            "Gambar kapulaga_1 (1).jpg diprediksi sebagai kelas: kapulaga dengan probabilitas: 0.780513346195221\n",
            "1/1 [==============================] - 0s 34ms/step\n",
            "Gambar kayu_manis_1 (1).png diprediksi sebagai kelas: asam jawa dengan probabilitas: 0.31280314922332764\n",
            "1/1 [==============================] - 0s 32ms/step\n",
            "Gambar kayu_manis_2 (1).png diprediksi sebagai kelas: kayu manis dengan probabilitas: 0.42496249079704285\n",
            "1/1 [==============================] - 0s 30ms/step\n",
            "Gambar kayu_secang_1 (1).jpg diprediksi sebagai kelas: kayu secang dengan probabilitas: 0.39620161056518555\n",
            "1/1 [==============================] - 0s 29ms/step\n",
            "Gambar kemiri_1 (1).jpg diprediksi sebagai kelas: pala dengan probabilitas: 0.6677162647247314\n",
            "1/1 [==============================] - 0s 31ms/step\n",
            "Gambar kluwek_1 (1).jpg diprediksi sebagai kelas: kluwek dengan probabilitas: 0.9932211637496948\n",
            "1/1 [==============================] - 0s 31ms/step\n",
            "Gambar kunyit_1 (1).png diprediksi sebagai kelas: kunyit dengan probabilitas: 0.9998674392700195\n",
            "1/1 [==============================] - 0s 32ms/step\n",
            "Gambar kunyit_2 (1).jpg diprediksi sebagai kelas: daun salam dengan probabilitas: 0.26976722478866577\n",
            "1/1 [==============================] - 0s 32ms/step\n",
            "Gambar lada_1 (1).jpg diprediksi sebagai kelas: lada dengan probabilitas: 0.9898278713226318\n",
            "1/1 [==============================] - 0s 29ms/step\n",
            "Gambar lengkuas_1 (1).jpg diprediksi sebagai kelas: lengkuas dengan probabilitas: 0.9764402508735657\n",
            "1/1 [==============================] - 0s 31ms/step\n",
            "Gambar pala_1 (1).jpg diprediksi sebagai kelas: pala dengan probabilitas: 0.859656572341919\n",
            "1/1 [==============================] - 0s 44ms/step\n",
            "Gambar wijen_1 (1).jpg diprediksi sebagai kelas: wijen dengan probabilitas: 0.9992590546607971\n"
          ]
        }
      ]
    }
  ]
}